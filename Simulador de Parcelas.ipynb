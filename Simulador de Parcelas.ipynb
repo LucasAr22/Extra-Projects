{
 "cells": [
  {
   "cell_type": "code",
   "execution_count": 78,
   "metadata": {},
   "outputs": [
    {
     "name": "stdout",
     "output_type": "stream",
     "text": [
      "Valor do produto:1200\n",
      "Juros/mês:20\n",
      "# de parcelas:12\n",
      "          Dia       Valor\n",
      "0  2020-02-14  311.249095\n",
      "1  2020-03-14  311.249095\n",
      "2  2020-04-14  311.249095\n",
      "3  2020-05-14  311.249095\n",
      "4  2020-06-14  311.249095\n",
      "5  2020-07-14  311.249095\n",
      "6  2020-08-14  311.249095\n",
      "7  2020-09-14  311.249095\n",
      "8  2020-10-14  311.249095\n",
      "9  2020-11-14  311.249095\n",
      "Total:  3112.490952120003\n"
     ]
    }
   ],
   "source": [
    "main()"
   ]
  },
  {
   "cell_type": "code",
   "execution_count": 79,
   "metadata": {},
   "outputs": [],
   "source": [
    "import numpy as np\n",
    "import pandas as pd\n",
    "import datetime\n",
    "from datetime import date\n",
    "from datetime import time\n",
    "from datetime import timedelta\n",
    "from dateutil.relativedelta import *\n",
    "\n",
    "class dados:\n",
    "    def __init__(self, val, juros, parcelas):\n",
    "        self.valor = val\n",
    "        self.juros = juros/100\n",
    "        self.parcelas = parcelas\n",
    "        self.hoje = date.today()\n",
    "        self.montante()\n",
    "        self.tabela()\n",
    "    def montante(self):\n",
    "        self.total = self.valor*(1 + self.juros)**(self.parcelas)\n",
    "        self.pagmensal = self.total/self.parcelas\n",
    "    def tabela(self):\n",
    "        self.datas = [date.today()+relativedelta(months=+i) for i in range(self.parcelas)]\n",
    "        self.dados = pd.DataFrame({\"Dia\": self.datas,\"Valor\": self.pagmensal})\n",
    "\n",
    "def main():\n",
    "    user = dados(float(input(\"Valor do produto:\")),float(input(\"Juros/mês:\")),int(input(\"# de parcelas:\")))\n",
    "    print(c.dados)\n",
    "    print(\"Total: \",c.total)"
   ]
  }
 ],
 "metadata": {
  "kernelspec": {
   "display_name": "Python 3",
   "language": "python",
   "name": "python3"
  },
  "language_info": {
   "codemirror_mode": {
    "name": "ipython",
    "version": 3
   },
   "file_extension": ".py",
   "mimetype": "text/x-python",
   "name": "python",
   "nbconvert_exporter": "python",
   "pygments_lexer": "ipython3",
   "version": "3.7.3"
  }
 },
 "nbformat": 4,
 "nbformat_minor": 2
}
